{
 "cells": [
  {
   "cell_type": "code",
   "execution_count": null,
   "metadata": {},
   "outputs": [],
   "source": [
    "#assignnment 10\n",
    "\n",
    "import numpy as np\n",
    "\n",
    "class HopfieldNetwork:\n",
    "    def __init__(self, input_size):\n",
    "        self.input_size = input_size\n",
    "        self.weights = np.zeros((input_size, input_size))\n",
    "    \n",
    "    def train(self, patterns):\n",
    "        for pattern in patterns:\n",
    "            pattern = np.array(pattern)\n",
    "            # Update weights using Hebbian learning rule\n",
    "            self.weights += np.outer(pattern, pattern)\n",
    "            np.fill_diagonal(self.weights, 0)  # Set diagonal to 0\n",
    "    \n",
    "    def recall(self, input_pattern, max_iterations=100):\n",
    "        input_pattern = np.array(input_pattern)\n",
    "        output_pattern = np.copy(input_pattern)\n",
    "        for _ in range(max_iterations):\n",
    "            for i in range(self.input_size):\n",
    "                # Update each neuron asynchronously\n",
    "                activation = np.dot(self.weights[i], output_pattern)\n",
    "                output_pattern[i] = 1 if activation > 0 else -1\n",
    "        return output_pattern\n",
    "\n",
    "# Example usage\n",
    "if __name__ == \"__main__\":\n",
    "    # Define input patterns\n",
    "    patterns = [\n",
    "        [1, 1, -1, -1],\n",
    "        [-1, -1, 1, 1],\n",
    "        [1, -1, -1, 1],\n",
    "        [-1, 1, 1, -1]\n",
    "    ]\n",
    "\n",
    "    # Initialize and train the Hopfield network\n",
    "    hopfield_net = HopfieldNetwork(input_size=len(patterns[0]))\n",
    "    hopfield_net.train(patterns)\n",
    "\n",
    "    # Test the network by recalling the stored patterns\n",
    "    for pattern in patterns:\n",
    "        recalled_pattern = hopfield_net.recall(pattern)\n",
    "        print(\"Input Pattern:\", pattern)\n",
    "        print(\"Recalled Pattern:\", recalled_pattern)\n",
    "        print()\n"
   ]
  }
 ],
 "metadata": {
  "language_info": {
   "name": "python"
  }
 },
 "nbformat": 4,
 "nbformat_minor": 2
}
