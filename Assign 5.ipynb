{
 "cells": [
  {
   "cell_type": "code",
   "execution_count": null,
   "metadata": {},
   "outputs": [],
   "source": [
    "#assignnment 5\n",
    "\n",
    "import numpy as np\n",
    "\n",
    "class BAM:\n",
    "    def __init__(self, X, Y):\n",
    "        self.X = np.array(X)\n",
    "        self.Y = np.array(Y)\n",
    "        self.W = np.dot(self.X.T, self.Y)\n",
    "\n",
    "    def recall_X(self, Y):\n",
    "        return np.dot(Y, self.W.T)\n",
    "\n",
    "    def recall_Y(self, X):\n",
    "        return np.dot(X, self.W)\n",
    "\n",
    "# Define two pairs of vectors\n",
    "X = [[1, 0, 1],\n",
    "    [0, 1, 0]]\n",
    "\n",
    "Y = [[1, 1],\n",
    "    [0, 0]]\n",
    "\n",
    "# Create BAM object\n",
    "bam = BAM(X, Y)\n",
    "\n",
    "# Recall Y given X\n",
    "X_input = np.array([1, 0, 1])\n",
    "Y_output = bam.recall_Y(X_input)\n",
    "print(\"Recalled Y:\", Y_output)\n",
    "\n",
    "# Recall X given Y\n",
    "Y_input = np.array([1, 1])\n",
    "X_output = bam.recall_X(Y_input)\n",
    "print(\"Recalled X:\", X_output)\n"
   ]
  }
 ],
 "metadata": {
  "language_info": {
   "name": "python"
  }
 },
 "nbformat": 4,
 "nbformat_minor": 2
}
